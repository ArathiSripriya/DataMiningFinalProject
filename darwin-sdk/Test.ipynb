{
 "cells": [
  {
   "cell_type": "code",
   "execution_count": 1,
   "metadata": {},
   "outputs": [],
   "source": [
    "import warnings\n",
    "warnings.filterwarnings(\"ignore\", message=\"numpy.dtype size changed\")\n",
    "%matplotlib inline\n",
    "import matplotlib.pyplot as plt\n",
    "import pandas as pd\n",
    "from IPython.display import Image\n",
    "from time import sleep\n",
    "import os\n",
    "import numpy as np\n",
    "from sklearn.metrics import classification_report\n",
    "\n",
    "from amb_sdk.sdk import DarwinSdk\n",
    "\n"
   ]
  },
  {
   "cell_type": "code",
   "execution_count": 4,
   "metadata": {},
   "outputs": [],
   "source": [
    "# Login\n",
    "ds = DarwinSdk()\n",
    "ds.set_url('https://amb-demo-api.sparkcognition.com/v1/')\n",
    "status, msg = ds.auth_login_user('arathis269@gmail.com', 'ZYmhY52mHE')\n",
    "\n",
    "if not status:\n",
    "    print(msg)"
   ]
  },
  {
   "cell_type": "code",
   "execution_count": 8,
   "metadata": {},
   "outputs": [],
   "source": [
    "path = 'data/'"
   ]
  },
  {
   "cell_type": "code",
   "execution_count": 13,
   "metadata": {},
   "outputs": [
    {
     "data": {
      "text/html": [
       "<div>\n",
       "<style scoped>\n",
       "    .dataframe tbody tr th:only-of-type {\n",
       "        vertical-align: middle;\n",
       "    }\n",
       "\n",
       "    .dataframe tbody tr th {\n",
       "        vertical-align: top;\n",
       "    }\n",
       "\n",
       "    .dataframe thead th {\n",
       "        text-align: right;\n",
       "    }\n",
       "</style>\n",
       "<table border=\"1\" class=\"dataframe\">\n",
       "  <thead>\n",
       "    <tr style=\"text-align: right;\">\n",
       "      <th></th>\n",
       "      <th>State_FIPS_Code</th>\n",
       "      <th>County_FIPS_Code</th>\n",
       "      <th>CHSI_County_Name</th>\n",
       "      <th>CHSI_State_Name</th>\n",
       "      <th>CHSI_State_Abbr</th>\n",
       "      <th>Strata_ID_Number</th>\n",
       "      <th>LBW</th>\n",
       "      <th>LBW_Ind</th>\n",
       "      <th>Min_LBW</th>\n",
       "      <th>Max_LBW</th>\n",
       "      <th>...</th>\n",
       "      <th>CI_Max_Suicide</th>\n",
       "      <th>Injury</th>\n",
       "      <th>Injury_Ind</th>\n",
       "      <th>Min_Injury</th>\n",
       "      <th>Max_Injury</th>\n",
       "      <th>CI_Min_Injury</th>\n",
       "      <th>CI_Max_Injury</th>\n",
       "      <th>Total_Births</th>\n",
       "      <th>Total_Deaths</th>\n",
       "      <th>MOBD_Time_Span</th>\n",
       "    </tr>\n",
       "  </thead>\n",
       "  <tbody>\n",
       "    <tr>\n",
       "      <th>0</th>\n",
       "      <td>1</td>\n",
       "      <td>1</td>\n",
       "      <td>Autauga</td>\n",
       "      <td>Alabama</td>\n",
       "      <td>AL</td>\n",
       "      <td>29</td>\n",
       "      <td>8.1</td>\n",
       "      <td>4</td>\n",
       "      <td>6.0</td>\n",
       "      <td>8.1</td>\n",
       "      <td>...</td>\n",
       "      <td>23.0</td>\n",
       "      <td>23.0</td>\n",
       "      <td>4.0</td>\n",
       "      <td>16.4</td>\n",
       "      <td>27.9</td>\n",
       "      <td>16.9</td>\n",
       "      <td>30.7</td>\n",
       "      <td>3048.0</td>\n",
       "      <td>1867.0</td>\n",
       "      <td>1999-2003</td>\n",
       "    </tr>\n",
       "    <tr>\n",
       "      <th>1</th>\n",
       "      <td>1</td>\n",
       "      <td>3</td>\n",
       "      <td>Baldwin</td>\n",
       "      <td>Alabama</td>\n",
       "      <td>AL</td>\n",
       "      <td>16</td>\n",
       "      <td>8.6</td>\n",
       "      <td>4</td>\n",
       "      <td>6.3</td>\n",
       "      <td>9.1</td>\n",
       "      <td>...</td>\n",
       "      <td>18.2</td>\n",
       "      <td>30.1</td>\n",
       "      <td>4.0</td>\n",
       "      <td>15.6</td>\n",
       "      <td>29.1</td>\n",
       "      <td>25.1</td>\n",
       "      <td>35.1</td>\n",
       "      <td>5471.0</td>\n",
       "      <td>4388.0</td>\n",
       "      <td>2001-2003</td>\n",
       "    </tr>\n",
       "    <tr>\n",
       "      <th>2</th>\n",
       "      <td>1</td>\n",
       "      <td>5</td>\n",
       "      <td>Barbour</td>\n",
       "      <td>Alabama</td>\n",
       "      <td>AL</td>\n",
       "      <td>51</td>\n",
       "      <td>11.0</td>\n",
       "      <td>4</td>\n",
       "      <td>6.7</td>\n",
       "      <td>11.9</td>\n",
       "      <td>...</td>\n",
       "      <td>16.9</td>\n",
       "      <td>29.6</td>\n",
       "      <td>4.0</td>\n",
       "      <td>17.5</td>\n",
       "      <td>35.2</td>\n",
       "      <td>21.5</td>\n",
       "      <td>39.7</td>\n",
       "      <td>1835.0</td>\n",
       "      <td>1538.0</td>\n",
       "      <td>1999-2003</td>\n",
       "    </tr>\n",
       "    <tr>\n",
       "      <th>3</th>\n",
       "      <td>1</td>\n",
       "      <td>7</td>\n",
       "      <td>Bibb</td>\n",
       "      <td>Alabama</td>\n",
       "      <td>AL</td>\n",
       "      <td>42</td>\n",
       "      <td>8.7</td>\n",
       "      <td>4</td>\n",
       "      <td>5.1</td>\n",
       "      <td>10.3</td>\n",
       "      <td>...</td>\n",
       "      <td>21.3</td>\n",
       "      <td>30.0</td>\n",
       "      <td>4.0</td>\n",
       "      <td>20.4</td>\n",
       "      <td>38.1</td>\n",
       "      <td>22.7</td>\n",
       "      <td>38.8</td>\n",
       "      <td>2801.0</td>\n",
       "      <td>2012.0</td>\n",
       "      <td>1994-2003</td>\n",
       "    </tr>\n",
       "    <tr>\n",
       "      <th>4</th>\n",
       "      <td>1</td>\n",
       "      <td>9</td>\n",
       "      <td>Blount</td>\n",
       "      <td>Alabama</td>\n",
       "      <td>AL</td>\n",
       "      <td>28</td>\n",
       "      <td>7.6</td>\n",
       "      <td>4</td>\n",
       "      <td>5.2</td>\n",
       "      <td>9.2</td>\n",
       "      <td>...</td>\n",
       "      <td>19.8</td>\n",
       "      <td>24.4</td>\n",
       "      <td>4.0</td>\n",
       "      <td>16.4</td>\n",
       "      <td>32.6</td>\n",
       "      <td>18.7</td>\n",
       "      <td>31.2</td>\n",
       "      <td>3318.0</td>\n",
       "      <td>2453.0</td>\n",
       "      <td>1999-2003</td>\n",
       "    </tr>\n",
       "  </tbody>\n",
       "</table>\n",
       "<p>5 rows × 141 columns</p>\n",
       "</div>"
      ],
      "text/plain": [
       "   State_FIPS_Code  County_FIPS_Code CHSI_County_Name CHSI_State_Name  \\\n",
       "0                1                 1          Autauga         Alabama   \n",
       "1                1                 3          Baldwin         Alabama   \n",
       "2                1                 5          Barbour         Alabama   \n",
       "3                1                 7             Bibb         Alabama   \n",
       "4                1                 9           Blount         Alabama   \n",
       "\n",
       "  CHSI_State_Abbr  Strata_ID_Number   LBW  LBW_Ind  Min_LBW  Max_LBW  ...  \\\n",
       "0              AL                29   8.1        4      6.0      8.1  ...   \n",
       "1              AL                16   8.6        4      6.3      9.1  ...   \n",
       "2              AL                51  11.0        4      6.7     11.9  ...   \n",
       "3              AL                42   8.7        4      5.1     10.3  ...   \n",
       "4              AL                28   7.6        4      5.2      9.2  ...   \n",
       "\n",
       "   CI_Max_Suicide  Injury  Injury_Ind  Min_Injury  Max_Injury  CI_Min_Injury  \\\n",
       "0            23.0    23.0         4.0        16.4        27.9           16.9   \n",
       "1            18.2    30.1         4.0        15.6        29.1           25.1   \n",
       "2            16.9    29.6         4.0        17.5        35.2           21.5   \n",
       "3            21.3    30.0         4.0        20.4        38.1           22.7   \n",
       "4            19.8    24.4         4.0        16.4        32.6           18.7   \n",
       "\n",
       "   CI_Max_Injury  Total_Births  Total_Deaths  MOBD_Time_Span  \n",
       "0           30.7        3048.0        1867.0       1999-2003  \n",
       "1           35.1        5471.0        4388.0       2001-2003  \n",
       "2           39.7        1835.0        1538.0       1999-2003  \n",
       "3           38.8        2801.0        2012.0       1994-2003  \n",
       "4           31.2        3318.0        2453.0       1999-2003  \n",
       "\n",
       "[5 rows x 141 columns]"
      ]
     },
     "execution_count": 13,
     "metadata": {},
     "output_type": "execute_result"
    }
   ],
   "source": [
    "dataset_name = 'MEASURESOFBIRTHANDDEATH.csv'\n",
    "df = pd.read_csv(os.path.join(path, dataset_name))\n",
    "df.head()"
   ]
  },
  {
   "cell_type": "code",
   "execution_count": 14,
   "metadata": {},
   "outputs": [],
   "source": [
    "# Upload dataset\n",
    "status, dataset = ds.upload_dataset(os.path.join(path, dataset_name))\n",
    "if not status:\n",
    "    print(dataset)"
   ]
  },
  {
   "cell_type": "code",
   "execution_count": 16,
   "metadata": {},
   "outputs": [
    {
     "name": "stdout",
     "output_type": "stream",
     "text": [
      "{'status': 'Requested', 'starttime': '2019-04-09T19:41:39.281319', 'endtime': None, 'percent_complete': 0, 'job_type': 'CleanDataTiny', 'loss': None, 'generations': None, 'dataset_names': ['MEASURESOFBIRTHANDDEATH.csv'], 'artifact_names': ['53bed972daf5431aa3d8dafb20ba48df'], 'model_name': None, 'job_error': None}\n",
      "{'status': 'Complete', 'starttime': '2019-04-09T19:41:39.281319', 'endtime': '2019-04-09T19:41:48.170744', 'percent_complete': 100, 'job_type': 'CleanDataTiny', 'loss': None, 'generations': None, 'dataset_names': ['MEASURESOFBIRTHANDDEATH.csv'], 'artifact_names': ['53bed972daf5431aa3d8dafb20ba48df'], 'model_name': None, 'job_error': ''}\n"
     ]
    }
   ],
   "source": [
    "# clean dataset\n",
    "target = \"CHSI_State_Name\"\n",
    "status, job_id = ds.clean_data(dataset_name, target = target)\n",
    "\n",
    "if status:\n",
    "    ds.wait_for_job(job_id['job_name'])\n",
    "else:\n",
    "    print(job_id)"
   ]
  },
  {
   "cell_type": "code",
   "execution_count": 19,
   "metadata": {},
   "outputs": [
    {
     "name": "stdout",
     "output_type": "stream",
     "text": [
      "400: BAD REQUEST - {\"message\": \"A model with this name already exists\"}\n",
      "\n"
     ]
    }
   ],
   "source": [
    "model = target + \"_model0\"\n",
    "status, job_id = ds.create_model(dataset_names = dataset_name, \\\n",
    "                                 model_name =  model, \\\n",
    "                                 max_train_time = '00:02')\n",
    "if status:\n",
    "    ds.wait_for_job(job_id['job_name'])\n",
    "else:\n",
    "    print(job_id)"
   ]
  },
  {
   "cell_type": "code",
   "execution_count": 20,
   "metadata": {},
   "outputs": [
    {
     "name": "stdout",
     "output_type": "stream",
     "text": [
      "404: NOT FOUND - {\"message\": \"Failed to find a dataset that the model was trained on. You have requested this URI [/v1/analyze/model/CHSI_State_Name_model0] but did you mean /v1/analyze/model/<model_name> ?\"}\n",
      "\n"
     ]
    },
    {
     "ename": "TypeError",
     "evalue": "string indices must be integers",
     "output_type": "error",
     "traceback": [
      "\u001b[0;31m---------------------------------------------------------------------------\u001b[0m",
      "\u001b[0;31mTypeError\u001b[0m                                 Traceback (most recent call last)",
      "\u001b[0;32m<ipython-input-20-9feec7a755ba>\u001b[0m in \u001b[0;36m<module>\u001b[0;34m\u001b[0m\n\u001b[1;32m      6\u001b[0m \u001b[0;32melse\u001b[0m\u001b[0;34m:\u001b[0m\u001b[0;34m\u001b[0m\u001b[0;34m\u001b[0m\u001b[0m\n\u001b[1;32m      7\u001b[0m     \u001b[0mprint\u001b[0m\u001b[0;34m(\u001b[0m\u001b[0martifact\u001b[0m\u001b[0;34m)\u001b[0m\u001b[0;34m\u001b[0m\u001b[0;34m\u001b[0m\u001b[0m\n\u001b[0;32m----> 8\u001b[0;31m \u001b[0mstatus\u001b[0m\u001b[0;34m,\u001b[0m \u001b[0mfeature_importance\u001b[0m \u001b[0;34m=\u001b[0m \u001b[0mds\u001b[0m\u001b[0;34m.\u001b[0m\u001b[0mdownload_artifact\u001b[0m\u001b[0;34m(\u001b[0m\u001b[0martifact\u001b[0m\u001b[0;34m[\u001b[0m\u001b[0;34m'artifact_name'\u001b[0m\u001b[0;34m]\u001b[0m\u001b[0;34m)\u001b[0m\u001b[0;34m\u001b[0m\u001b[0;34m\u001b[0m\u001b[0m\n\u001b[0m",
      "\u001b[0;31mTypeError\u001b[0m: string indices must be integers"
     ]
    }
   ],
   "source": [
    "# Retrieve feature importance of built model\n",
    "status, artifact = ds.analyze_model(model)\n",
    "sleep(1)\n",
    "if status:\n",
    "    ds.wait_for_job(artifact['job_name'])\n",
    "else:\n",
    "    print(artifact)\n",
    "status, feature_importance = ds.download_artifact(artifact['artifact_name'])"
   ]
  },
  {
   "cell_type": "code",
   "execution_count": null,
   "metadata": {},
   "outputs": [],
   "source": []
  }
 ],
 "metadata": {
  "kernelspec": {
   "display_name": "Python 3",
   "language": "python",
   "name": "python3"
  },
  "language_info": {
   "codemirror_mode": {
    "name": "ipython",
    "version": 3
   },
   "file_extension": ".py",
   "mimetype": "text/x-python",
   "name": "python",
   "nbconvert_exporter": "python",
   "pygments_lexer": "ipython3",
   "version": "3.7.3"
  }
 },
 "nbformat": 4,
 "nbformat_minor": 2
}
